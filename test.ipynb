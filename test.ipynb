{
 "cells": [
  {
   "cell_type": "code",
   "execution_count": 97,
   "metadata": {},
   "outputs": [],
   "source": [
    "from IPython import display\n",
    "import math\n",
    "from pprint import pprint\n",
    "import pandas as pd\n",
    "import numpy as np\n",
    "import nltk\n",
    "import matplotlib.pyplot as plt\n",
    "import seaborn as sns\n",
    "sns.set(style='darkgrid', context='talk', palette='Dark2')\n",
    "import praw\n",
    "from praw.models import MoreComments\n",
    "import spacy\n",
    "from nltk.sentiment.vader import SentimentIntensityAnalyzer as SIA"
   ]
  },
  {
   "cell_type": "code",
   "execution_count": 98,
   "metadata": {},
   "outputs": [
    {
     "name": "stdout",
     "output_type": "stream",
     "text": [
      "[french, it, communities]\n"
     ]
    }
   ],
   "source": [
    "spacy.prefer_gpu()\n",
    "nlp = spacy.load(\"en_core_web_sm\")\n",
    "sent = \"Honestly.. The french just wants it more than other communities. Other streamer communities except for the daliban are just fucking around lol\"\n",
    "doc=nlp(sent)\n",
    "\n",
    "sub_toks = [tok for tok in doc if (tok.dep_ == \"nsubj\") ]\n",
    "\n",
    "print(sub_toks) "
   ]
  },
  {
   "cell_type": "code",
   "execution_count": 99,
   "metadata": {},
   "outputs": [],
   "source": [
    "reddit = praw.Reddit(client_id='sRUAAFcF92SAOAcApXtOgA',\n",
    "                     client_secret='NWHiWc_yM5fCscnAdtDq7HlQKf8U5Q',\n",
    "                     user_agent='tomtom2352')"
   ]
  },
  {
   "cell_type": "code",
   "execution_count": 100,
   "metadata": {},
   "outputs": [
    {
     "name": "stdout",
     "output_type": "stream",
     "text": [
      "[{'compound': 0.4019,\n",
      "  'headline': \"I don't see dean on my screen this whole convo was hilarious\",\n",
      "  'neg': 0.0,\n",
      "  'neu': 0.787,\n",
      "  'pos': 0.213}]\n",
      "['This is so hilarious I went to see them get into a petty war.', \"After seeing XQC do GTA RP I don't think anybody could be pettier than him\"]\n"
     ]
    }
   ],
   "source": [
    "def removeWhiteSpace(word):\n",
    "    return word.strip()\n",
    "\n",
    "for submission in reddit.subreddit('LivestreamFail').top(time_filter=\"week\"):\n",
    "    splitText = submission.link_flair_text.split(\":\")\n",
    "\n",
    "sia = SIA()\n",
    "results = []\n",
    "\n",
    "line = \"I don't see dean on my screen this whole convo was hilarious\"\n",
    "pol_score = sia.polarity_scores(line)\n",
    "pol_score['headline'] = line\n",
    "results.append(pol_score)\n",
    "\n",
    "pprint(results[:5], width=100)\n",
    "\n",
    "sent_text = nltk.sent_tokenize(\"This is so hilarious I went to see them get into a petty war. After seeing XQC do GTA RP I don't think anybody could be pettier than him\")\n",
    "print(sent_text)\n"
   ]
  },
  {
   "cell_type": "code",
   "execution_count": 101,
   "metadata": {},
   "outputs": [
    {
     "name": "stdout",
     "output_type": "stream",
     "text": [
      "santa deniers 4weird\n"
     ]
    }
   ],
   "source": [
    "submission = reddit.submission(id='tt4ar6')\n",
    "comment = submission.comments[1]\n",
    "comment.refresh()\n",
    "replies = comment.replies\n",
    "print(replies[0].body)"
   ]
  },
  {
   "cell_type": "code",
   "execution_count": 102,
   "metadata": {},
   "outputs": [],
   "source": [
    "submission = reddit.submission(id='twanfw')\n",
    "comments = submission.comments\n",
    "\n",
    "allComments = comments.list()\n",
    "for cur in allComments:\n",
    "    if isinstance(cur, MoreComments):\n",
    "        continue"
   ]
  },
  {
   "cell_type": "code",
   "execution_count": 103,
   "metadata": {},
   "outputs": [
    {
     "name": "stdout",
     "output_type": "stream",
     "text": [
      "{'Erobb starts WW3', 'moonmoon calmly explains resetting frost damage with fire in Elden Ring.', \"Mizkif reacts to Destiny's reign of terror on r/place\", 'Miz signs treaty with Destiny', \"Stream Sniper comments on Forsen's gun choice\", \"r/Place mods censor xQc's picture\", 'Thank you for participating in r/LiveStreamFail April Fools Day 2022!', 'Dota pro has strange eating habits', 'Dr.K \"You can\\'t erase the penis with positivity\"', 'Destiny explains why his community is so active compared to others', 'Reddit gives a shoutout to Reckful', 'Destiny destroys a certain person‘s dead dog on r/place', 'Soda negotiates with Ludwig about Polish flag', 'French and Spanish r/place community get in call with Mizkif, throw insults at each other and are on the verge of entering WW3', 'Stranger in summits game has a hot mic', 'Based Erobb', 'Mizkif - Europeans malding at each other in English might be the best thing that happend with r/place', \"Tyler's thoughts on r/Place\", 'Jerma attempts to land in Fortnite', 'NL on hitting 1 million YouTube subs'}\n",
      "[Comment(id='i3bb0jv'), Comment(id='i3brpqn'), Comment(id='i3bkamj'), Comment(id='i3bab57'), Comment(id='i3baatq'), Comment(id='i3bfs4d'), Comment(id='i3bizxa'), Comment(id='i3bc2fw'), Comment(id='i3bb2hr'), Comment(id='i3bayl8'), Comment(id='i3bbn8t'), Comment(id='i3bhjt6'), Comment(id='i3bed3x'), Comment(id='i3bd6iz'), Comment(id='i3bvbw4'), Comment(id='i3bjrhl'), Comment(id='i3bpa9z'), Comment(id='i3basc3'), Comment(id='i3bb90w'), Comment(id='i3bwsff'), Comment(id='i3brliw'), Comment(id='i3bemn1'), Comment(id='i3blehq'), Comment(id='i3bxwlo'), Comment(id='i3c0t21'), Comment(id='i3ccj7w'), Comment(id='i3czyow'), Comment(id='i3bpt7e'), Comment(id='i3c7fx2'), Comment(id='i3bbohd'), Comment(id='i3bo3t0'), Comment(id='i3c4kks'), Comment(id='i3bfvvr'), Comment(id='i3bdbis'), Comment(id='i3bdbgg'), Comment(id='i3c2q0j'), Comment(id='i3bcso5'), Comment(id='i3dh5n9'), Comment(id='i3dptbz'), Comment(id='i3e518k'), Comment(id='i3c6rq8'), Comment(id='i3bo8u0'), Comment(id='i3bguwm'), Comment(id='i3bts74'), Comment(id='i3ccnh1'), Comment(id='i3blqwc'), Comment(id='i3bzcsw'), Comment(id='i3brmpl'), Comment(id='i3bg1ut'), Comment(id='i3cp7ka'), Comment(id='i3cry7f'), Comment(id='i3d0i5g'), Comment(id='i3bg2cg'), Comment(id='i3bwnrk'), Comment(id='i3ctyw8'), Comment(id='i3bepj2'), Comment(id='i3c36lf'), Comment(id='i3bjb0r'), Comment(id='i3cpqmk'), Comment(id='i3bobj2'), Comment(id='i3c5101'), Comment(id='i3d81tu'), Comment(id='i3dpzdg'), Comment(id='i3bswnb'), Comment(id='i3bkto4'), Comment(id='i3bddgm'), Comment(id='i3buc1x'), Comment(id='i3bcwhl'), Comment(id='i3c8zy2'), Comment(id='i3caa07'), Comment(id='i3camzi'), Comment(id='i3cjnkc'), Comment(id='i3by0v7'), Comment(id='i3c53kk'), Comment(id='i3ca3db'), Comment(id='i3cc0oz'), Comment(id='i3cbj7i'), Comment(id='i3cdsjz'), Comment(id='i3ce26a'), Comment(id='i3cejt7'), Comment(id='i3ceojz'), Comment(id='i3cg09s'), Comment(id='i3cgles'), Comment(id='i3ciq37'), Comment(id='i3co690'), Comment(id='i3cqg7h'), Comment(id='i3cyeuk'), Comment(id='i3cz1su'), Comment(id='i3d0611'), Comment(id='i3d19kw'), Comment(id='i3d3kou'), Comment(id='i3da229'), Comment(id='i3dderk'), Comment(id='i3ddk0y'), Comment(id='i3dds0q'), Comment(id='i3dep30'), Comment(id='i3dknyv'), Comment(id='i3dmugu'), Comment(id='i3dn23g'), Comment(id='i3doks1'), Comment(id='i3dopnm'), Comment(id='i3dsut6'), Comment(id='i3dypdw'), Comment(id='i3dzaln'), <MoreComments count=24, children=['i3cmcsl', 'i3e2lvs', 'i3d5l8s', '...']>, Comment(id='i3bsr0k'), Comment(id='i3c6xdy'), Comment(id='i3cld7j'), Comment(id='i3bok1t'), Comment(id='i3ci1cv'), Comment(id='i3daovc'), Comment(id='i3br671'), Comment(id='i3c2897'), Comment(id='i3cgqpl'), Comment(id='i3ceigs'), Comment(id='i3cuk43'), Comment(id='i3czrfj'), Comment(id='i3d8xaq'), Comment(id='i3d9t5t'), Comment(id='i3dd44s'), Comment(id='i3dj4ha'), <MoreComments count=5, children=['i3e6ju2', 'i3deuyt', 'i3crkfy']>, Comment(id='i3bcrfm'), Comment(id='i3cci4u'), Comment(id='i3bh9ns'), Comment(id='i3crvky'), Comment(id='i3br995'), Comment(id='i3cwdqy'), Comment(id='i3bfpbw'), Comment(id='i3dkvj8'), <MoreComments count=10, children=['i3e4kao', 'i3bb6ax', 'i3e7rey']>, Comment(id='i3bkn9m'), Comment(id='i3bc6hw'), Comment(id='i3be9z9'), Comment(id='i3bcj6q'), Comment(id='i3baxpt'), Comment(id='i3bu07q'), Comment(id='i3bidnn'), Comment(id='i3bdh54'), Comment(id='i3bsx4i'), Comment(id='i3bael4'), Comment(id='i3bbtb8'), Comment(id='i3bgnln'), Comment(id='i3cjpem'), Comment(id='i3buiuw'), Comment(id='i3c4z41'), Comment(id='i3ccqm1'), Comment(id='i3crqp3'), Comment(id='i3cz7ls'), Comment(id='i3d7gry'), Comment(id='i3cqtub'), Comment(id='i3dmef8'), Comment(id='i3c0vn1'), Comment(id='i3bd2mv'), Comment(id='i3bqdrp'), Comment(id='i3bra6w'), Comment(id='i3cab4p'), Comment(id='i3djdoe'), Comment(id='i3bb6rq'), Comment(id='i3cbf12'), Comment(id='i3bc115'), Comment(id='i3bycny'), Comment(id='i3bii0u'), <MoreComments count=1, children=['i3e3u38']>, Comment(id='i3c6n4k'), Comment(id='i3c3qqx'), Comment(id='i3bkv19'), Comment(id='i3c88cg'), Comment(id='i3bwnda'), Comment(id='i3cepr9'), Comment(id='i3cje0m'), Comment(id='i3bw7d9'), Comment(id='i3beisb'), Comment(id='i3bqurh'), Comment(id='i3bpqmd'), Comment(id='i3c5adt'), Comment(id='i3cawmr'), Comment(id='i3czoiv'), Comment(id='i3c6zov'), Comment(id='i3c5q94'), Comment(id='i3c6aao'), Comment(id='i3cd505'), Comment(id='i3bcxks'), Comment(id='i3bq4tt'), Comment(id='i3bc3ne'), Comment(id='i3c70hh'), Comment(id='i3ca84s'), Comment(id='i3cw5y9'), <MoreComments count=13, children=['i3c5dak']>, Comment(id='i3bvsub'), Comment(id='i3cq1wo'), Comment(id='i3cq9uj'), <MoreComments count=1, children=['i3dt0cn']>, Comment(id='i3bvg98'), Comment(id='i3d98vh'), Comment(id='i3by54l'), <MoreComments count=1, children=['i3f0kjm']>, <MoreComments count=4, children=['i3emrjd']>, Comment(id='i3cgclv'), <MoreComments count=1, children=['i3ca6fo']>, Comment(id='i3bf58q'), Comment(id='i3bhfr9'), Comment(id='i3bf95a'), Comment(id='i3bgxkq'), Comment(id='i3c3iiv'), Comment(id='i3c7aly'), Comment(id='i3dzw75'), Comment(id='i3c9deo'), <MoreComments count=1, children=['i3c9v30']>, Comment(id='i3bew8l'), Comment(id='i3crhjl'), Comment(id='i3ditkz'), Comment(id='i3dg8pa'), Comment(id='i3c74bs'), Comment(id='i3cl7k1'), Comment(id='i3dm4um'), Comment(id='i3drell'), Comment(id='i3dzww8'), <MoreComments count=1, children=['i3ej5g0']>, Comment(id='i3d6xbc'), <MoreComments count=1, children=['i3f67yi']>, Comment(id='i3bpc9a'), Comment(id='i3bp5wn'), Comment(id='i3bpogq'), Comment(id='i3cdwp3'), Comment(id='i3d70so'), Comment(id='i3do5v4'), Comment(id='i3dow8n'), Comment(id='i3bty4g'), Comment(id='i3cc3qo'), Comment(id='i3cl7tr'), Comment(id='i3cuzzr'), Comment(id='i3cyqbx'), Comment(id='i3bho5a'), Comment(id='i3caqpy'), <MoreComments count=2, children=['i3e38wo']>, Comment(id='i3bqozl'), Comment(id='i3br4a4'), Comment(id='i3br79a'), Comment(id='i3brqv4'), Comment(id='i3c7jqx'), Comment(id='i3dbpve'), Comment(id='i3dj5od'), Comment(id='i3bibka'), Comment(id='i3bupag'), Comment(id='i3ciscc'), Comment(id='i3bi633'), Comment(id='i3bjycv'), Comment(id='i3d6upv'), <MoreComments count=1, children=['i3cm1nm']>, Comment(id='i3bqwll'), Comment(id='i3cz449'), Comment(id='i3dtyfs'), Comment(id='i3d1v3j'), Comment(id='i3d33p6'), Comment(id='i3eydfz'), Comment(id='i3d3ca3'), Comment(id='i3dnqvq'), Comment(id='i3cdod5'), Comment(id='i3chxjq'), <MoreComments count=1, children=['i3eu7uz']>, Comment(id='i3bs3xk'), Comment(id='i3cxgif'), Comment(id='i3bwqst'), Comment(id='i3dmr3r'), Comment(id='i3bbpfi'), Comment(id='i3d8x9m'), Comment(id='i3cs814'), <MoreComments count=3, children=['i3cqgn2']>, Comment(id='i3beecc'), Comment(id='i3bhar6'), Comment(id='i3bf6mh'), Comment(id='i3bimef'), Comment(id='i3bhm4c'), Comment(id='i3ce7ew'), Comment(id='i3ci3bm'), Comment(id='i3d3i5p'), <MoreComments count=3, children=['i3bypff', 'i3c0zk4', 'i3e54vz']>, Comment(id='i3ce99o'), Comment(id='i3cif1x'), Comment(id='i3cqnjj'), Comment(id='i3bgzkz'), Comment(id='i3bs8hc'), Comment(id='i3ei0rn'), Comment(id='i3bdbmb'), Comment(id='i3df0zy'), Comment(id='i3bsfrj'), Comment(id='i3bcohf'), Comment(id='i3c57vc'), Comment(id='i3czwca'), Comment(id='i3d99oq'), Comment(id='i3bx6kx'), Comment(id='i3c85o5'), Comment(id='i3c5ju3'), Comment(id='i3chifh'), Comment(id='i3c7nei'), Comment(id='i3dw620'), Comment(id='i3df8pp'), Comment(id='i3dvcgw'), Comment(id='i3dchhx'), <MoreComments count=2, children=['i3e6irz']>, Comment(id='i3byagn'), Comment(id='i3byxcl'), Comment(id='i3d0xln'), Comment(id='i3dpgpi'), Comment(id='i3dycn0'), <MoreComments count=1, children=['i3e0ws2']>, Comment(id='i3bukqn'), Comment(id='i3dfe01'), Comment(id='i3bpomq'), Comment(id='i3blbdh'), Comment(id='i3by2g9'), Comment(id='i3bwnpq'), Comment(id='i3clshs'), Comment(id='i3byrwu'), Comment(id='i3brvva'), Comment(id='i3bwdit'), Comment(id='i3bveto'), Comment(id='i3buc83'), Comment(id='i3c9pfy'), Comment(id='i3cjcgx'), Comment(id='i3cxhwi'), Comment(id='i3co293'), Comment(id='i3bnthp'), <MoreComments count=1, children=['i3bu2tf']>, Comment(id='i3bupvs'), Comment(id='i3e1hb1'), Comment(id='i3ccqlb'), <MoreComments count=1, children=['i3eyt73']>, Comment(id='i3eqkp7'), Comment(id='i3dzzaw'), Comment(id='i3eqp7b'), Comment(id='i3da8cs'), <MoreComments count=1, children=['i3e3tbp']>, Comment(id='i3d283b'), Comment(id='i3c4a90'), <MoreComments count=1, children=['i3ekujm']>, <MoreComments count=1, children=['i3do3o0']>, <MoreComments count=4, children=['i3bws0f']>, Comment(id='i3det4q'), Comment(id='i3bfv2x'), <MoreComments count=4, children=['i3but4q', 'i3c7l6i']>, Comment(id='i3bi9hs'), Comment(id='i3cjpeu'), <MoreComments count=2, children=['i3cydn7']>, Comment(id='i3cor5p'), Comment(id='i3c4e76'), Comment(id='i3bdmi4'), Comment(id='i3dksah'), Comment(id='i3bd9ew'), <MoreComments count=2, children=['i3bd3oq']>, Comment(id='i3cryf0'), Comment(id='i3c86k1'), Comment(id='i3d387y'), Comment(id='i3e7o96'), Comment(id='i3by5ss'), Comment(id='i3c9mmm'), Comment(id='i3dic01'), Comment(id='i3ciqf0'), Comment(id='i3dmv00'), Comment(id='i3dte43'), <MoreComments count=3, children=['i3g53bc', 'i3dxmn3']>, Comment(id='i3du6w9'), Comment(id='i3cgyoy'), Comment(id='i3c2x7e'), Comment(id='i3c28ku'), Comment(id='i3cpxyd'), Comment(id='i3cq9fm'), Comment(id='i3dewm8'), Comment(id='i3cx078'), Comment(id='i3cuxls'), Comment(id='i3dpnkf'), <MoreComments count=1, children=['i3e1ocq']>, Comment(id='i3bzpod'), Comment(id='i3bzgrz'), Comment(id='i3dxwr5'), Comment(id='i3dojtx'), <MoreComments count=3, children=['i3dpl8k']>, Comment(id='i3c75iy'), <MoreComments count=13, children=['i3bnlka']>, Comment(id='i3buqhj'), Comment(id='i3ch12l'), Comment(id='i3c6u8b'), Comment(id='i3c0moi'), Comment(id='i3ck3e0'), Comment(id='i3c0xkh'), Comment(id='i3cvohg'), Comment(id='i3cb9pk'), Comment(id='i3bzucp'), Comment(id='i3bujzz'), <MoreComments count=1, children=['i3e3p1y']>, <MoreComments count=7, children=['i3eyiuu', 'i3bpmfr']>, Comment(id='i3cwxdd'), Comment(id='i3er2s1'), Comment(id='i3bj2kx'), Comment(id='i3bgq36'), Comment(id='i3bjjx1'), Comment(id='i3bqpy2'), Comment(id='i3ch08v'), Comment(id='i3bkels'), Comment(id='i3csxyw'), Comment(id='i3bht8g'), Comment(id='i3bpy4f'), Comment(id='i3cs3a3'), Comment(id='i3d8gwa'), Comment(id='i3bha12'), Comment(id='i3byp2t'), Comment(id='i3bkrzj'), Comment(id='i3bqytm'), Comment(id='i3be71l'), Comment(id='i3br8de'), Comment(id='i3bdpx2'), Comment(id='i3bdgdb'), Comment(id='i3bdp9u'), Comment(id='i3cbi5s'), Comment(id='i3enp8u'), Comment(id='i3dxsrr'), Comment(id='i3dqa06'), Comment(id='i3ekp1d'), Comment(id='i3dtmiy'), Comment(id='i3dyarw'), Comment(id='i3d155a'), Comment(id='i3d90eb'), Comment(id='i3dk06v'), Comment(id='i3d6cg2'), Comment(id='i3dtbr8'), Comment(id='i3c2y94'), Comment(id='i3cznov'), Comment(id='i3c3ied'), Comment(id='i3cqw6r'), Comment(id='i3cxnv9'), Comment(id='i3cx86y'), Comment(id='i3dqzjv'), Comment(id='i3cgeiu'), Comment(id='i3c7tde'), Comment(id='i3dxpyw'), Comment(id='i3c7lp3'), Comment(id='i3cz4fw'), Comment(id='i3cz6sm'), Comment(id='i3dic4w'), Comment(id='i3cuuah'), Comment(id='i3cwpmd'), <MoreComments count=1, children=['i3etrfb']>, <MoreComments count=1, children=['i3bwfdt']>, Comment(id='i3dkj5p'), Comment(id='i3eymk0'), Comment(id='i3bscgq'), Comment(id='i3by5qj'), Comment(id='i3dxrre'), Comment(id='i3bnv48'), Comment(id='i3c254t'), Comment(id='i3c1n84'), Comment(id='i3btojd'), Comment(id='i3bupyk'), Comment(id='i3c272t'), Comment(id='i3c8o2c'), Comment(id='i3cp2mm'), <MoreComments count=1, children=['i3e3a8s']>, <MoreComments count=3, children=['i3bkhm2']>, Comment(id='i3bft0n'), Comment(id='i3cdi9g'), Comment(id='i3ceer3'), <MoreComments count=2, children=['i3eythj']>, <MoreComments count=1, children=['i3eodr9']>, Comment(id='i3dmyhm'), Comment(id='i3d6fpz'), Comment(id='i3dckwn'), <MoreComments count=4, children=['i3eow1q']>, Comment(id='i3ckgov'), Comment(id='i3c437h'), Comment(id='i3dxz13'), <MoreComments count=2, children=['i3e2y0a']>, <MoreComments count=2, children=['i3c3qyl']>, Comment(id='i3dcssu'), Comment(id='i3c9wum'), Comment(id='i3c7pb5'), Comment(id='i3cxsyx'), Comment(id='i3cmut5'), Comment(id='i3drxdh'), Comment(id='i3ducl0'), Comment(id='i3c2ckl'), Comment(id='i3c1wlk'), Comment(id='i3d6w4i'), Comment(id='i3bg5ea'), Comment(id='i3cdlqf'), Comment(id='i3cq118'), Comment(id='i3cb1fs'), Comment(id='i3c82jk'), Comment(id='i3d0175'), Comment(id='i3coq26'), Comment(id='i3c2nj4'), Comment(id='i3c84ru'), Comment(id='i3cenxy'), Comment(id='i3cg7yz'), Comment(id='i3c87wa'), <MoreComments count=1, children=['i3ecs8l']>, Comment(id='i3d0ivv'), Comment(id='i3cvug3'), Comment(id='i3c2rsb'), <MoreComments count=2, children=['i3cf0cw']>, Comment(id='i3c94ig'), Comment(id='i3d4ala'), Comment(id='i3d0s9v'), Comment(id='i3c3364'), <MoreComments count=0, children=[]>, <MoreComments count=0, children=[]>]\n"
     ]
    }
   ],
   "source": [
    "titles = set()\n",
    "allComments = set()\n",
    "\n",
    "for submission in reddit.subreddit('LivestreamFail').hot(limit=20):\n",
    "    titles.add(submission.title)\n",
    "    comments = submission.comments.list()\n",
    "    for comment in comments[1:]:\n",
    "        if isinstance(comment, MoreComments):\n",
    "            continue\n",
    "        allComments.add(comment.body)\n",
    "print(titles)\n",
    "print(allComments)"
   ]
  },
  {
   "cell_type": "code",
   "execution_count": 106,
   "metadata": {},
   "outputs": [
    {
     "name": "stdout",
     "output_type": "stream",
     "text": [
      "[{'compound': 0.0, 'headline': 'Erobb starts WW3', 'neg': 0.0, 'neu': 1.0, 'pos': 0.0},\n",
      " {'compound': -0.5106,\n",
      "  'headline': 'moonmoon calmly explains resetting frost damage with fire in Elden Ring.',\n",
      "  'neg': 0.352,\n",
      "  'neu': 0.503,\n",
      "  'pos': 0.145},\n",
      " {'compound': -0.5267,\n",
      "  'headline': \"Mizkif reacts to Destiny's reign of terror on r/place\",\n",
      "  'neg': 0.298,\n",
      "  'neu': 0.702,\n",
      "  'pos': 0.0},\n",
      " {'compound': 0.0, 'headline': 'Miz signs treaty with Destiny', 'neg': 0.0, 'neu': 1.0, 'pos': 0.0},\n",
      " {'compound': -0.34,\n",
      "  'headline': \"Stream Sniper comments on Forsen's gun choice\",\n",
      "  'neg': 0.286,\n",
      "  'neu': 0.714,\n",
      "  'pos': 0.0}]\n",
      "15.0\n",
      "85.0\n",
      "0.0\n"
     ]
    }
   ],
   "source": [
    "sia = SIA()\n",
    "results = []\n",
    "total = 0\n",
    "positive = 0\n",
    "negative = 0\n",
    "neutral = 0\n",
    "\n",
    "for line in titles:\n",
    "    pol_score = sia.polarity_scores(line)\n",
    "    pol_score['headline'] = line\n",
    "    results.append(pol_score)\n",
    "    total += 1\n",
    "    if pol_score['compound'] >= 0.05:\n",
    "        positive += 1\n",
    "    elif pol_score['compound'] <= 0.05:\n",
    "        negative += 1\n",
    "    else:\n",
    "        neutral += 1\n",
    "\n",
    "pprint(results[:5], width=100)\n",
    "print(100*positive/total)\n",
    "print(100*negative/total)\n",
    "print(100*neutral/total)"
   ]
  },
  {
   "cell_type": "code",
   "execution_count": 107,
   "metadata": {},
   "outputs": [
    {
     "ename": "ValueError",
     "evalue": "Sheet 'Sheet2' already exists and if_sheet_exists is set to 'error'.",
     "output_type": "error",
     "traceback": [
      "\u001b[1;31m---------------------------------------------------------------------------\u001b[0m",
      "\u001b[1;31mValueError\u001b[0m                                Traceback (most recent call last)",
      "\u001b[1;32mc:\\Users\\Thomas\\Desktop\\Python\\RedditSentimentAnalysis\\test.ipynb Cell 9'\u001b[0m in \u001b[0;36m<module>\u001b[1;34m\u001b[0m\n\u001b[0;32m      <a href='vscode-notebook-cell:/c%3A/Users/Thomas/Desktop/Python/RedditSentimentAnalysis/test.ipynb#ch0000006?line=0'>1</a>\u001b[0m df \u001b[39m=\u001b[39m pd\u001b[39m.\u001b[39mDataFrame\u001b[39m.\u001b[39mfrom_records(results)\n\u001b[0;32m      <a href='vscode-notebook-cell:/c%3A/Users/Thomas/Desktop/Python/RedditSentimentAnalysis/test.ipynb#ch0000006?line=1'>2</a>\u001b[0m \u001b[39mwith\u001b[39;00m pd\u001b[39m.\u001b[39mExcelWriter(\u001b[39m'\u001b[39m\u001b[39mdata/learnData.xlsx\u001b[39m\u001b[39m'\u001b[39m, mode\u001b[39m=\u001b[39m\u001b[39m'\u001b[39m\u001b[39ma\u001b[39m\u001b[39m'\u001b[39m) \u001b[39mas\u001b[39;00m writer:  \n\u001b[1;32m----> <a href='vscode-notebook-cell:/c%3A/Users/Thomas/Desktop/Python/RedditSentimentAnalysis/test.ipynb#ch0000006?line=2'>3</a>\u001b[0m     df\u001b[39m.\u001b[39;49mto_excel(writer, sheet_name\u001b[39m=\u001b[39;49m\u001b[39m'\u001b[39;49m\u001b[39mSheet2\u001b[39;49m\u001b[39m'\u001b[39;49m)\n",
      "File \u001b[1;32m~\\AppData\\Local\\Programs\\Python\\Python38\\lib\\site-packages\\pandas\\core\\generic.py:2357\u001b[0m, in \u001b[0;36mNDFrame.to_excel\u001b[1;34m(self, excel_writer, sheet_name, na_rep, float_format, columns, header, index, index_label, startrow, startcol, engine, merge_cells, encoding, inf_rep, verbose, freeze_panes, storage_options)\u001b[0m\n\u001b[0;32m   <a href='file:///c%3A/Users/Thomas/AppData/Local/Programs/Python/Python38/lib/site-packages/pandas/core/generic.py?line=2343'>2344</a>\u001b[0m \u001b[39mfrom\u001b[39;00m \u001b[39mpandas\u001b[39;00m\u001b[39m.\u001b[39;00m\u001b[39mio\u001b[39;00m\u001b[39m.\u001b[39;00m\u001b[39mformats\u001b[39;00m\u001b[39m.\u001b[39;00m\u001b[39mexcel\u001b[39;00m \u001b[39mimport\u001b[39;00m ExcelFormatter\n\u001b[0;32m   <a href='file:///c%3A/Users/Thomas/AppData/Local/Programs/Python/Python38/lib/site-packages/pandas/core/generic.py?line=2345'>2346</a>\u001b[0m formatter \u001b[39m=\u001b[39m ExcelFormatter(\n\u001b[0;32m   <a href='file:///c%3A/Users/Thomas/AppData/Local/Programs/Python/Python38/lib/site-packages/pandas/core/generic.py?line=2346'>2347</a>\u001b[0m     df,\n\u001b[0;32m   <a href='file:///c%3A/Users/Thomas/AppData/Local/Programs/Python/Python38/lib/site-packages/pandas/core/generic.py?line=2347'>2348</a>\u001b[0m     na_rep\u001b[39m=\u001b[39mna_rep,\n\u001b[1;32m   (...)\u001b[0m\n\u001b[0;32m   <a href='file:///c%3A/Users/Thomas/AppData/Local/Programs/Python/Python38/lib/site-packages/pandas/core/generic.py?line=2354'>2355</a>\u001b[0m     inf_rep\u001b[39m=\u001b[39minf_rep,\n\u001b[0;32m   <a href='file:///c%3A/Users/Thomas/AppData/Local/Programs/Python/Python38/lib/site-packages/pandas/core/generic.py?line=2355'>2356</a>\u001b[0m )\n\u001b[1;32m-> <a href='file:///c%3A/Users/Thomas/AppData/Local/Programs/Python/Python38/lib/site-packages/pandas/core/generic.py?line=2356'>2357</a>\u001b[0m formatter\u001b[39m.\u001b[39;49mwrite(\n\u001b[0;32m   <a href='file:///c%3A/Users/Thomas/AppData/Local/Programs/Python/Python38/lib/site-packages/pandas/core/generic.py?line=2357'>2358</a>\u001b[0m     excel_writer,\n\u001b[0;32m   <a href='file:///c%3A/Users/Thomas/AppData/Local/Programs/Python/Python38/lib/site-packages/pandas/core/generic.py?line=2358'>2359</a>\u001b[0m     sheet_name\u001b[39m=\u001b[39;49msheet_name,\n\u001b[0;32m   <a href='file:///c%3A/Users/Thomas/AppData/Local/Programs/Python/Python38/lib/site-packages/pandas/core/generic.py?line=2359'>2360</a>\u001b[0m     startrow\u001b[39m=\u001b[39;49mstartrow,\n\u001b[0;32m   <a href='file:///c%3A/Users/Thomas/AppData/Local/Programs/Python/Python38/lib/site-packages/pandas/core/generic.py?line=2360'>2361</a>\u001b[0m     startcol\u001b[39m=\u001b[39;49mstartcol,\n\u001b[0;32m   <a href='file:///c%3A/Users/Thomas/AppData/Local/Programs/Python/Python38/lib/site-packages/pandas/core/generic.py?line=2361'>2362</a>\u001b[0m     freeze_panes\u001b[39m=\u001b[39;49mfreeze_panes,\n\u001b[0;32m   <a href='file:///c%3A/Users/Thomas/AppData/Local/Programs/Python/Python38/lib/site-packages/pandas/core/generic.py?line=2362'>2363</a>\u001b[0m     engine\u001b[39m=\u001b[39;49mengine,\n\u001b[0;32m   <a href='file:///c%3A/Users/Thomas/AppData/Local/Programs/Python/Python38/lib/site-packages/pandas/core/generic.py?line=2363'>2364</a>\u001b[0m     storage_options\u001b[39m=\u001b[39;49mstorage_options,\n\u001b[0;32m   <a href='file:///c%3A/Users/Thomas/AppData/Local/Programs/Python/Python38/lib/site-packages/pandas/core/generic.py?line=2364'>2365</a>\u001b[0m )\n",
      "File \u001b[1;32m~\\AppData\\Local\\Programs\\Python\\Python38\\lib\\site-packages\\pandas\\io\\formats\\excel.py:892\u001b[0m, in \u001b[0;36mExcelFormatter.write\u001b[1;34m(self, writer, sheet_name, startrow, startcol, freeze_panes, engine, storage_options)\u001b[0m\n\u001b[0;32m    <a href='file:///c%3A/Users/Thomas/AppData/Local/Programs/Python/Python38/lib/site-packages/pandas/io/formats/excel.py?line=888'>889</a>\u001b[0m     need_save \u001b[39m=\u001b[39m \u001b[39mTrue\u001b[39;00m\n\u001b[0;32m    <a href='file:///c%3A/Users/Thomas/AppData/Local/Programs/Python/Python38/lib/site-packages/pandas/io/formats/excel.py?line=890'>891</a>\u001b[0m \u001b[39mtry\u001b[39;00m:\n\u001b[1;32m--> <a href='file:///c%3A/Users/Thomas/AppData/Local/Programs/Python/Python38/lib/site-packages/pandas/io/formats/excel.py?line=891'>892</a>\u001b[0m     writer\u001b[39m.\u001b[39;49mwrite_cells(\n\u001b[0;32m    <a href='file:///c%3A/Users/Thomas/AppData/Local/Programs/Python/Python38/lib/site-packages/pandas/io/formats/excel.py?line=892'>893</a>\u001b[0m         formatted_cells,\n\u001b[0;32m    <a href='file:///c%3A/Users/Thomas/AppData/Local/Programs/Python/Python38/lib/site-packages/pandas/io/formats/excel.py?line=893'>894</a>\u001b[0m         sheet_name,\n\u001b[0;32m    <a href='file:///c%3A/Users/Thomas/AppData/Local/Programs/Python/Python38/lib/site-packages/pandas/io/formats/excel.py?line=894'>895</a>\u001b[0m         startrow\u001b[39m=\u001b[39;49mstartrow,\n\u001b[0;32m    <a href='file:///c%3A/Users/Thomas/AppData/Local/Programs/Python/Python38/lib/site-packages/pandas/io/formats/excel.py?line=895'>896</a>\u001b[0m         startcol\u001b[39m=\u001b[39;49mstartcol,\n\u001b[0;32m    <a href='file:///c%3A/Users/Thomas/AppData/Local/Programs/Python/Python38/lib/site-packages/pandas/io/formats/excel.py?line=896'>897</a>\u001b[0m         freeze_panes\u001b[39m=\u001b[39;49mfreeze_panes,\n\u001b[0;32m    <a href='file:///c%3A/Users/Thomas/AppData/Local/Programs/Python/Python38/lib/site-packages/pandas/io/formats/excel.py?line=897'>898</a>\u001b[0m     )\n\u001b[0;32m    <a href='file:///c%3A/Users/Thomas/AppData/Local/Programs/Python/Python38/lib/site-packages/pandas/io/formats/excel.py?line=898'>899</a>\u001b[0m \u001b[39mfinally\u001b[39;00m:\n\u001b[0;32m    <a href='file:///c%3A/Users/Thomas/AppData/Local/Programs/Python/Python38/lib/site-packages/pandas/io/formats/excel.py?line=899'>900</a>\u001b[0m     \u001b[39m# make sure to close opened file handles\u001b[39;00m\n\u001b[0;32m    <a href='file:///c%3A/Users/Thomas/AppData/Local/Programs/Python/Python38/lib/site-packages/pandas/io/formats/excel.py?line=900'>901</a>\u001b[0m     \u001b[39mif\u001b[39;00m need_save:\n",
      "File \u001b[1;32m~\\AppData\\Local\\Programs\\Python\\Python38\\lib\\site-packages\\pandas\\io\\excel\\_openpyxl.py:437\u001b[0m, in \u001b[0;36mOpenpyxlWriter.write_cells\u001b[1;34m(self, cells, sheet_name, startrow, startcol, freeze_panes)\u001b[0m\n\u001b[0;32m    <a href='file:///c%3A/Users/Thomas/AppData/Local/Programs/Python/Python38/lib/site-packages/pandas/io/excel/_openpyxl.py?line=434'>435</a>\u001b[0m     \u001b[39mself\u001b[39m\u001b[39m.\u001b[39msheets[sheet_name] \u001b[39m=\u001b[39m wks\n\u001b[0;32m    <a href='file:///c%3A/Users/Thomas/AppData/Local/Programs/Python/Python38/lib/site-packages/pandas/io/excel/_openpyxl.py?line=435'>436</a>\u001b[0m \u001b[39melif\u001b[39;00m \u001b[39mself\u001b[39m\u001b[39m.\u001b[39mif_sheet_exists \u001b[39m==\u001b[39m \u001b[39m\"\u001b[39m\u001b[39merror\u001b[39m\u001b[39m\"\u001b[39m:\n\u001b[1;32m--> <a href='file:///c%3A/Users/Thomas/AppData/Local/Programs/Python/Python38/lib/site-packages/pandas/io/excel/_openpyxl.py?line=436'>437</a>\u001b[0m     \u001b[39mraise\u001b[39;00m \u001b[39mValueError\u001b[39;00m(\n\u001b[0;32m    <a href='file:///c%3A/Users/Thomas/AppData/Local/Programs/Python/Python38/lib/site-packages/pandas/io/excel/_openpyxl.py?line=437'>438</a>\u001b[0m         \u001b[39mf\u001b[39m\u001b[39m\"\u001b[39m\u001b[39mSheet \u001b[39m\u001b[39m'\u001b[39m\u001b[39m{\u001b[39;00msheet_name\u001b[39m}\u001b[39;00m\u001b[39m'\u001b[39m\u001b[39m already exists and \u001b[39m\u001b[39m\"\u001b[39m\n\u001b[0;32m    <a href='file:///c%3A/Users/Thomas/AppData/Local/Programs/Python/Python38/lib/site-packages/pandas/io/excel/_openpyxl.py?line=438'>439</a>\u001b[0m         \u001b[39mf\u001b[39m\u001b[39m\"\u001b[39m\u001b[39mif_sheet_exists is set to \u001b[39m\u001b[39m'\u001b[39m\u001b[39merror\u001b[39m\u001b[39m'\u001b[39m\u001b[39m.\u001b[39m\u001b[39m\"\u001b[39m\n\u001b[0;32m    <a href='file:///c%3A/Users/Thomas/AppData/Local/Programs/Python/Python38/lib/site-packages/pandas/io/excel/_openpyxl.py?line=439'>440</a>\u001b[0m     )\n\u001b[0;32m    <a href='file:///c%3A/Users/Thomas/AppData/Local/Programs/Python/Python38/lib/site-packages/pandas/io/excel/_openpyxl.py?line=440'>441</a>\u001b[0m \u001b[39melif\u001b[39;00m \u001b[39mself\u001b[39m\u001b[39m.\u001b[39mif_sheet_exists \u001b[39m==\u001b[39m \u001b[39m\"\u001b[39m\u001b[39moverlay\u001b[39m\u001b[39m\"\u001b[39m:\n\u001b[0;32m    <a href='file:///c%3A/Users/Thomas/AppData/Local/Programs/Python/Python38/lib/site-packages/pandas/io/excel/_openpyxl.py?line=441'>442</a>\u001b[0m     wks \u001b[39m=\u001b[39m \u001b[39mself\u001b[39m\u001b[39m.\u001b[39msheets[sheet_name]\n",
      "\u001b[1;31mValueError\u001b[0m: Sheet 'Sheet2' already exists and if_sheet_exists is set to 'error'."
     ]
    }
   ],
   "source": [
    "df = pd.DataFrame.from_records(results)\n",
    "with pd.ExcelWriter('data/learnData.xlsx', mode='a') as writer:  \n",
    "    df.to_excel(writer, sheet_name='Sheet2')"
   ]
  },
  {
   "cell_type": "code",
   "execution_count": null,
   "metadata": {},
   "outputs": [],
   "source": [
    "df.head()"
   ]
  }
 ],
 "metadata": {
  "interpreter": {
   "hash": "eaa2ab7a62c0917f87f70bcc1c7d6454437090f2090a811744461a161579b7b3"
  },
  "kernelspec": {
   "display_name": "Python 3.8.10 64-bit",
   "language": "python",
   "name": "python3"
  },
  "language_info": {
   "codemirror_mode": {
    "name": "ipython",
    "version": 3
   },
   "file_extension": ".py",
   "mimetype": "text/x-python",
   "name": "python",
   "nbconvert_exporter": "python",
   "pygments_lexer": "ipython3",
   "version": "3.8.10"
  },
  "orig_nbformat": 4
 },
 "nbformat": 4,
 "nbformat_minor": 2
}
